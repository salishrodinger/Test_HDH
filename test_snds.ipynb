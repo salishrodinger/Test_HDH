{
 "cells": [
  {
   "cell_type": "code",
   "execution_count": 53,
   "metadata": {},
   "outputs": [],
   "source": [
    "# import librairies\n",
    "import pandas as pd\n",
    "import numpy as np\n",
    "import sqlite3\n",
    "from datetime import datetime as dt\n",
    "import matplotlib.pyplot "
   ]
  },
  {
   "cell_type": "markdown",
   "metadata": {},
   "source": [
    "#### 1. Créer la table person dans la base de données choisie."
   ]
  },
  {
   "cell_type": "code",
   "execution_count": 54,
   "metadata": {},
   "outputs": [],
   "source": [
    "# création de la database HDH\n",
    "\n",
    "connection = sqlite3.connect(\"hdh.db\")\n",
    "cursor = connection.cursor()\n",
    "\n",
    "# création de la table person dans la BDD HDH\n",
    "\n",
    "cursor.execute('''\n",
    "\t\tCREATE TABLE IF NOT EXISTS person (\n",
    "\t\t\tperson_id int primary key,\n",
    "\t\t\tperson_source_value text,\n",
    "\t\t\tgender_concept_id int,\n",
    "            year_of_birth int\n",
    "\t\t\t)\n",
    "               ''')\n",
    "\n",
    "connection.commit()"
   ]
  },
  {
   "cell_type": "markdown",
   "metadata": {},
   "source": [
    "#### 2. Ouvrir les tables T_MCOAAC et T_MCOAAB, et enlever les doublons et les valeurs manquantes. Calculer le nombre de lignes pour chaque table, la distribution homme/femme de la table T_MCOAAB."
   ]
  },
  {
   "cell_type": "code",
   "execution_count": 55,
   "metadata": {},
   "outputs": [],
   "source": [
    "# importation des 2 fichiers csv en dataframes\n",
    "\n",
    "mcoaab_df = pd.read_csv(r'T_MCOaaB.csv', sep=',')\n",
    "mcoaac_df = pd.read_csv(r'T_MCOaaC.csv', sep='|')"
   ]
  },
  {
   "cell_type": "code",
   "execution_count": 56,
   "metadata": {},
   "outputs": [
    {
     "data": {
      "text/html": [
       "<div>\n",
       "<style scoped>\n",
       "    .dataframe tbody tr th:only-of-type {\n",
       "        vertical-align: middle;\n",
       "    }\n",
       "\n",
       "    .dataframe tbody tr th {\n",
       "        vertical-align: top;\n",
       "    }\n",
       "\n",
       "    .dataframe thead th {\n",
       "        text-align: right;\n",
       "    }\n",
       "</style>\n",
       "<table border=\"1\" class=\"dataframe\">\n",
       "  <thead>\n",
       "    <tr style=\"text-align: right;\">\n",
       "      <th></th>\n",
       "      <th>NIR_ANO_17</th>\n",
       "      <th>RSA_NUM</th>\n",
       "      <th>ETA_NUM</th>\n",
       "      <th>COH_NAI_RET</th>\n",
       "      <th>COH_SEX_RET</th>\n",
       "      <th>DAT_RET</th>\n",
       "      <th>ENT_DAT</th>\n",
       "      <th>ETA_NUM_RET</th>\n",
       "      <th>EXE_SOI_AMD</th>\n",
       "      <th>EXE_SOI_AMF</th>\n",
       "      <th>...</th>\n",
       "      <th>SEJ_MER_RET</th>\n",
       "      <th>SEJ_NUM</th>\n",
       "      <th>SEJ_RET</th>\n",
       "      <th>SEX_RET</th>\n",
       "      <th>SOR_ANN</th>\n",
       "      <th>SOR_DAT</th>\n",
       "      <th>SOR_MOI</th>\n",
       "      <th>VID_HOSP_FOR</th>\n",
       "      <th>ENT_AM</th>\n",
       "      <th>SOR_AM</th>\n",
       "    </tr>\n",
       "  </thead>\n",
       "  <tbody>\n",
       "    <tr>\n",
       "      <th>0</th>\n",
       "      <td>fiosftusfZACfuNhE</td>\n",
       "      <td>6766543446</td>\n",
       "      <td>250010162</td>\n",
       "      <td>True</td>\n",
       "      <td>False</td>\n",
       "      <td>c</td>\n",
       "      <td>5122013</td>\n",
       "      <td>True</td>\n",
       "      <td>198104</td>\n",
       "      <td>198104</td>\n",
       "      <td>...</td>\n",
       "      <td>True</td>\n",
       "      <td>31556</td>\n",
       "      <td>False</td>\n",
       "      <td>True</td>\n",
       "      <td>2014</td>\n",
       "      <td>1012014</td>\n",
       "      <td>6</td>\n",
       "      <td>418</td>\n",
       "      <td>199211</td>\n",
       "      <td>199211</td>\n",
       "    </tr>\n",
       "    <tr>\n",
       "      <th>1</th>\n",
       "      <td>fiosftusfZACfuNhE</td>\n",
       "      <td>1778813122</td>\n",
       "      <td>470015009</td>\n",
       "      <td>True</td>\n",
       "      <td>True</td>\n",
       "      <td>v</td>\n",
       "      <td>10032016</td>\n",
       "      <td>True</td>\n",
       "      <td>201310</td>\n",
       "      <td>201310</td>\n",
       "      <td>...</td>\n",
       "      <td>False</td>\n",
       "      <td>97756</td>\n",
       "      <td>False</td>\n",
       "      <td>True</td>\n",
       "      <td>1998</td>\n",
       "      <td>15042016</td>\n",
       "      <td>6</td>\n",
       "      <td>509</td>\n",
       "      <td>197208</td>\n",
       "      <td>197208</td>\n",
       "    </tr>\n",
       "    <tr>\n",
       "      <th>2</th>\n",
       "      <td>fiosftusfZACfuNhE</td>\n",
       "      <td>6079331430</td>\n",
       "      <td>30005540</td>\n",
       "      <td>False</td>\n",
       "      <td>True</td>\n",
       "      <td>Q</td>\n",
       "      <td>8021998</td>\n",
       "      <td>False</td>\n",
       "      <td>201106</td>\n",
       "      <td>201106</td>\n",
       "      <td>...</td>\n",
       "      <td>False</td>\n",
       "      <td>81628</td>\n",
       "      <td>False</td>\n",
       "      <td>False</td>\n",
       "      <td>2005</td>\n",
       "      <td>11031998</td>\n",
       "      <td>1</td>\n",
       "      <td>785</td>\n",
       "      <td>197205</td>\n",
       "      <td>197206</td>\n",
       "    </tr>\n",
       "    <tr>\n",
       "      <th>3</th>\n",
       "      <td>fiosftusfZACfuNhE</td>\n",
       "      <td>8205197405</td>\n",
       "      <td>750039182</td>\n",
       "      <td>False</td>\n",
       "      <td>False</td>\n",
       "      <td>V</td>\n",
       "      <td>18072010</td>\n",
       "      <td>False</td>\n",
       "      <td>201710</td>\n",
       "      <td>201711</td>\n",
       "      <td>...</td>\n",
       "      <td>False</td>\n",
       "      <td>69840</td>\n",
       "      <td>True</td>\n",
       "      <td>True</td>\n",
       "      <td>2001</td>\n",
       "      <td>18082010</td>\n",
       "      <td>2</td>\n",
       "      <td>410</td>\n",
       "      <td>201302</td>\n",
       "      <td>201302</td>\n",
       "    </tr>\n",
       "    <tr>\n",
       "      <th>4</th>\n",
       "      <td>fiosftusfZACfuNhE</td>\n",
       "      <td>8501373207</td>\n",
       "      <td>920003399</td>\n",
       "      <td>True</td>\n",
       "      <td>True</td>\n",
       "      <td>u</td>\n",
       "      <td>10111986</td>\n",
       "      <td>True</td>\n",
       "      <td>201208</td>\n",
       "      <td>201208</td>\n",
       "      <td>...</td>\n",
       "      <td>True</td>\n",
       "      <td>65673</td>\n",
       "      <td>False</td>\n",
       "      <td>False</td>\n",
       "      <td>1996</td>\n",
       "      <td>26111986</td>\n",
       "      <td>9</td>\n",
       "      <td>237</td>\n",
       "      <td>201211</td>\n",
       "      <td>201212</td>\n",
       "    </tr>\n",
       "  </tbody>\n",
       "</table>\n",
       "<p>5 rows × 40 columns</p>\n",
       "</div>"
      ],
      "text/plain": [
       "          NIR_ANO_17     RSA_NUM    ETA_NUM  COH_NAI_RET  COH_SEX_RET DAT_RET  \\\n",
       "0  fiosftusfZACfuNhE  6766543446  250010162         True        False       c   \n",
       "1  fiosftusfZACfuNhE  1778813122  470015009         True         True       v   \n",
       "2  fiosftusfZACfuNhE  6079331430   30005540        False         True       Q   \n",
       "3  fiosftusfZACfuNhE  8205197405  750039182        False        False       V   \n",
       "4  fiosftusfZACfuNhE  8501373207  920003399         True         True       u   \n",
       "\n",
       "    ENT_DAT  ETA_NUM_RET  EXE_SOI_AMD  EXE_SOI_AMF  ... SEJ_MER_RET SEJ_NUM  \\\n",
       "0   5122013         True       198104       198104  ...        True   31556   \n",
       "1  10032016         True       201310       201310  ...       False   97756   \n",
       "2   8021998        False       201106       201106  ...       False   81628   \n",
       "3  18072010        False       201710       201711  ...       False   69840   \n",
       "4  10111986         True       201208       201208  ...        True   65673   \n",
       "\n",
       "   SEJ_RET SEX_RET  SOR_ANN   SOR_DAT  SOR_MOI  VID_HOSP_FOR  ENT_AM  SOR_AM  \n",
       "0    False    True     2014   1012014        6           418  199211  199211  \n",
       "1    False    True     1998  15042016        6           509  197208  197208  \n",
       "2    False   False     2005  11031998        1           785  197205  197206  \n",
       "3     True    True     2001  18082010        2           410  201302  201302  \n",
       "4    False   False     1996  26111986        9           237  201211  201212  \n",
       "\n",
       "[5 rows x 40 columns]"
      ]
     },
     "execution_count": 56,
     "metadata": {},
     "output_type": "execute_result"
    }
   ],
   "source": [
    "# vérifications du bon import des fichiers\n",
    "\n",
    "mcoaab_df.head()\n",
    "mcoaac_df.head()"
   ]
  },
  {
   "cell_type": "code",
   "execution_count": 57,
   "metadata": {},
   "outputs": [],
   "source": [
    "# supression des doublons en prenant en compte le double critères d'unicité ETA_NUM + RSA_NUM\n",
    "\n",
    "mcoaab_df2 = mcoaab_df.drop_duplicates(subset=['ETA_NUM','RSA_NUM'])\n",
    "mcoaac_df2 = mcoaac_df.drop_duplicates(subset=['ETA_NUM','RSA_NUM'])\n"
   ]
  },
  {
   "cell_type": "code",
   "execution_count": 58,
   "metadata": {},
   "outputs": [
    {
     "data": {
      "text/plain": [
       "NIR_ANO_17         0\n",
       "RSA_NUM            0\n",
       "ETA_NUM            0\n",
       "COH_NAI_RET        0\n",
       "COH_SEX_RET        0\n",
       "DAT_RET            0\n",
       "ENT_DAT            0\n",
       "ETA_NUM_RET        0\n",
       "EXE_SOI_AMD        0\n",
       "EXE_SOI_AMF        0\n",
       "EXE_SOI_DTD        0\n",
       "EXE_SOI_DTF        0\n",
       "FHO_RET            0\n",
       "FOR_NUM            0\n",
       "HOS_NN_MAM         0\n",
       "HOS_NNE_RET        0\n",
       "HOS_ORG_RET        0\n",
       "HOS_PLO            0\n",
       "NAI_RET            0\n",
       "NIR_ANO_MAM        0\n",
       "NIR_RET            0\n",
       "NUM_DAT_AT         0\n",
       "NUM_DAT_AT_RET     0\n",
       "ORG_CPL_NUM        0\n",
       "ORG_CPL_NUM_RET    0\n",
       "PMS_RET            0\n",
       "RNG_BEN            0\n",
       "RNG_BEN_RET        0\n",
       "RNG_NAI            0\n",
       "RNG_NAI_RET        0\n",
       "SEJ_MER_RET        0\n",
       "SEJ_NUM            0\n",
       "SEJ_RET            0\n",
       "SEX_RET            0\n",
       "SOR_ANN            0\n",
       "SOR_DAT            0\n",
       "SOR_MOI            0\n",
       "VID_HOSP_FOR       0\n",
       "ENT_AM             0\n",
       "SOR_AM             0\n",
       "dtype: int64"
      ]
     },
     "execution_count": 58,
     "metadata": {},
     "output_type": "execute_result"
    }
   ],
   "source": [
    "# vérifications de l'existence de valeurs manquantes dans toutes les colonnes\n",
    "\n",
    "mcoaab_df2.isnull().sum()\n",
    "mcoaac_df2.isnull().sum()"
   ]
  },
  {
   "cell_type": "code",
   "execution_count": 59,
   "metadata": {},
   "outputs": [],
   "source": [
    "# Suppression valeurs manquantes\n",
    "\n",
    "mcoaab_df2_copy = mcoaab_df2.copy()\n",
    "mcoaab_df2_copy.dropna(subset=[\"ETA_NUM\",\"RSA_NUM\"], inplace=True)\n",
    "\n",
    "mcoaac_df2_copy = mcoaac_df2.copy()\n",
    "mcoaac_df2_copy.dropna(subset=[\"ETA_NUM\", \"RSA_NUM\"], inplace=True)"
   ]
  },
  {
   "cell_type": "code",
   "execution_count": 60,
   "metadata": {},
   "outputs": [
    {
     "data": {
      "text/plain": [
       "'Nombre de lignes de la table T_MCOaaC : 514'"
      ]
     },
     "execution_count": 60,
     "metadata": {},
     "output_type": "execute_result"
    }
   ],
   "source": [
    "# calcul nombre de lignes pour chaque table\n",
    "vol1 = len(mcoaab_df2_copy)\n",
    "vol2 = len(mcoaac_df2_copy)\n",
    "\n",
    "f\"Nombre de lignes de la table T_MCOaaB : {vol1}\"\n",
    "f\"Nombre de lignes de la table T_MCOaaC : {vol2}\"\n"
   ]
  },
  {
   "cell_type": "code",
   "execution_count": 61,
   "metadata": {},
   "outputs": [
    {
     "data": {
      "text/html": [
       "<div>\n",
       "<style scoped>\n",
       "    .dataframe tbody tr th:only-of-type {\n",
       "        vertical-align: middle;\n",
       "    }\n",
       "\n",
       "    .dataframe tbody tr th {\n",
       "        vertical-align: top;\n",
       "    }\n",
       "\n",
       "    .dataframe thead th {\n",
       "        text-align: right;\n",
       "    }\n",
       "</style>\n",
       "<table border=\"1\" class=\"dataframe\">\n",
       "  <thead>\n",
       "    <tr style=\"text-align: right;\">\n",
       "      <th></th>\n",
       "      <th>VOLUME</th>\n",
       "      <th>RATIO</th>\n",
       "      <th>POURCENTAGE</th>\n",
       "    </tr>\n",
       "  </thead>\n",
       "  <tbody>\n",
       "    <tr>\n",
       "      <th>2</th>\n",
       "      <td>190</td>\n",
       "      <td>0.535211</td>\n",
       "      <td>53.5%</td>\n",
       "    </tr>\n",
       "    <tr>\n",
       "      <th>1</th>\n",
       "      <td>165</td>\n",
       "      <td>0.464789</td>\n",
       "      <td>46.5%</td>\n",
       "    </tr>\n",
       "  </tbody>\n",
       "</table>\n",
       "</div>"
      ],
      "text/plain": [
       "   VOLUME     RATIO POURCENTAGE\n",
       "2     190  0.535211       53.5%\n",
       "1     165  0.464789       46.5%"
      ]
     },
     "execution_count": 61,
     "metadata": {},
     "output_type": "execute_result"
    }
   ],
   "source": [
    "# distribution homme/femme de la table T_MCOaaB\n",
    "\n",
    "cs = mcoaab_df2_copy[\"COD_SEX\"][mcoaab_df2_copy[\"COD_SEX\"].isin([1,2])]\n",
    "\n",
    "volume = cs.value_counts()\n",
    "ratio = cs.value_counts(normalize=True)\n",
    "pourcentage = cs.value_counts(normalize=True).mul(100).round(1).astype(str) + '%'\n",
    "pd.DataFrame({'VOLUME': volume, 'RATIO': ratio, 'POURCENTAGE': pourcentage})"
   ]
  },
  {
   "cell_type": "markdown",
   "metadata": {},
   "source": [
    "#### 3. Remplir la colonne **person_source_value** de la table *person*."
   ]
  }
 ],
 "metadata": {
  "kernelspec": {
   "display_name": "Python 3.10.5 64-bit",
   "language": "python",
   "name": "python3"
  },
  "language_info": {
   "codemirror_mode": {
    "name": "ipython",
    "version": 3
   },
   "file_extension": ".py",
   "mimetype": "text/x-python",
   "name": "python",
   "nbconvert_exporter": "python",
   "pygments_lexer": "ipython3",
   "version": "3.10.5"
  },
  "orig_nbformat": 4,
  "vscode": {
   "interpreter": {
    "hash": "aee8b7b246df8f9039afb4144a1f6fd8d2ca17a180786b69acc140d282b71a49"
   }
  }
 },
 "nbformat": 4,
 "nbformat_minor": 2
}
